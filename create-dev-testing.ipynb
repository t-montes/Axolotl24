{
 "cells": [
  {
   "cell_type": "code",
   "execution_count": 64,
   "metadata": {},
   "outputs": [],
   "source": [
    "import pandas as pd\n",
    "import numpy as np"
   ]
  },
  {
   "cell_type": "code",
   "execution_count": 65,
   "metadata": {},
   "outputs": [],
   "source": [
    "ROWS_REMOVAL = .50"
   ]
  },
  {
   "cell_type": "code",
   "execution_count": 66,
   "metadata": {},
   "outputs": [],
   "source": [
    "input_paths = [\n",
    "    './data/russian/axolotl.dev.ru.tsv',\n",
    "    './data/finnish/axolotl.dev.fi.tsv',\n",
    "    './data/russian/axolotl.train.ru.tsv',\n",
    "    './data/finnish/axolotl.train.fi.tsv',\n",
    "]\n",
    "\n",
    "output_paths = [\n",
    "    './data/dev-testing/axolotl.dev.ru.tsv',\n",
    "    './data/dev-testing/axolotl.dev.fi.tsv',\n",
    "    './data/dev-testing/axolotl.train.ru.tsv',\n",
    "    './data/dev-testing/axolotl.train.fi.tsv',\n",
    "]\n",
    "\n",
    "dfs = [pd.read_csv(path, sep='\\t') for path in input_paths]"
   ]
  },
  {
   "cell_type": "code",
   "execution_count": 67,
   "metadata": {},
   "outputs": [],
   "source": [
    "def remove_half_rows(group):\n",
    "    n_keep = int(len(group)*ROWS_REMOVAL)\n",
    "    keep_indices = np.random.choice(group.index, size=n_keep, replace=False)\n",
    "    group.loc[~group.index.isin(keep_indices), ['gloss', 'sense_id']] = ''\n",
    "    return group\n",
    "\n",
    "def remove_random_half(df):\n",
    "    modified_df = df.groupby('word').apply(remove_half_rows)\n",
    "    modified_df.reset_index(drop=True, inplace=True)\n",
    "    modified_df['id'] = modified_df['usage_id'].str.split('_').str[-1].astype(int)\n",
    "    modified_df = modified_df.sort_values(by='id')\n",
    "    modified_df.drop(columns=['id'], inplace=True)\n",
    "    modified_df.reset_index(drop=True, inplace=True)\n",
    "    return modified_df"
   ]
  },
  {
   "cell_type": "code",
   "execution_count": 68,
   "metadata": {},
   "outputs": [
    {
     "name": "stderr",
     "output_type": "stream",
     "text": [
      "C:\\Users\\santi\\AppData\\Local\\Temp\\ipykernel_23092\\3257078416.py:8: DeprecationWarning: DataFrameGroupBy.apply operated on the grouping columns. This behavior is deprecated, and in a future version of pandas the grouping columns will be excluded from the operation. Either pass `include_groups=False` to exclude the groupings or explicitly select the grouping columns after groupby to silence this warning.\n",
      "  modified_df = df.groupby('word').apply(remove_half_rows)\n",
      "C:\\Users\\santi\\AppData\\Local\\Temp\\ipykernel_23092\\3257078416.py:8: DeprecationWarning: DataFrameGroupBy.apply operated on the grouping columns. This behavior is deprecated, and in a future version of pandas the grouping columns will be excluded from the operation. Either pass `include_groups=False` to exclude the groupings or explicitly select the grouping columns after groupby to silence this warning.\n",
      "  modified_df = df.groupby('word').apply(remove_half_rows)\n",
      "C:\\Users\\santi\\AppData\\Local\\Temp\\ipykernel_23092\\3257078416.py:8: DeprecationWarning: DataFrameGroupBy.apply operated on the grouping columns. This behavior is deprecated, and in a future version of pandas the grouping columns will be excluded from the operation. Either pass `include_groups=False` to exclude the groupings or explicitly select the grouping columns after groupby to silence this warning.\n",
      "  modified_df = df.groupby('word').apply(remove_half_rows)\n",
      "C:\\Users\\santi\\AppData\\Local\\Temp\\ipykernel_23092\\3257078416.py:8: DeprecationWarning: DataFrameGroupBy.apply operated on the grouping columns. This behavior is deprecated, and in a future version of pandas the grouping columns will be excluded from the operation. Either pass `include_groups=False` to exclude the groupings or explicitly select the grouping columns after groupby to silence this warning.\n",
      "  modified_df = df.groupby('word').apply(remove_half_rows)\n"
     ]
    }
   ],
   "source": [
    "for i,df in enumerate(dfs):\n",
    "    modified_df = remove_random_half(df)\n",
    "    modified_df.to_csv(output_paths[i], sep='\\t', index=False)"
   ]
  }
 ],
 "metadata": {
  "kernelspec": {
   "display_name": "Python 3",
   "language": "python",
   "name": "python3"
  },
  "language_info": {
   "codemirror_mode": {
    "name": "ipython",
    "version": 3
   },
   "file_extension": ".py",
   "mimetype": "text/x-python",
   "name": "python",
   "nbconvert_exporter": "python",
   "pygments_lexer": "ipython3",
   "version": "3.12.1"
  }
 },
 "nbformat": 4,
 "nbformat_minor": 2
}
