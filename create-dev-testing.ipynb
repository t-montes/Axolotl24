{
 "cells": [
  {
   "cell_type": "code",
   "execution_count": 64,
   "metadata": {},
   "outputs": [],
   "source": [
    "import pandas as pd\n",
    "import numpy as np"
   ]
  },
  {
   "cell_type": "code",
   "execution_count": 65,
   "metadata": {},
   "outputs": [],
   "source": [
    "ROWS_REMOVAL = .50"
   ]
  },
  {
   "cell_type": "code",
   "execution_count": 66,
   "metadata": {},
   "outputs": [],
   "source": [
    "input_paths = [\n",
    "    './data/russian/axolotl.dev.ru.tsv',\n",
    "    './data/finnish/axolotl.dev.fi.tsv',\n",
    "    './data/russian/axolotl.train.ru.tsv',\n",
    "    './data/finnish/axolotl.train.fi.tsv',\n",
    "]\n",
    "\n",
    "output_paths = [\n",
    "    './data/dev-testing/axolotl.dev.ru.tsv',\n",
    "    './data/dev-testing/axolotl.dev.fi.tsv',\n",
    "    './data/dev-testing/axolotl.train.ru.tsv',\n",
    "    './data/dev-testing/axolotl.train.fi.tsv',\n",
    "]\n",
    "\n",
    "dfs = [pd.read_csv(path, sep='\\t') for path in input_paths]"
   ]
  },
  {
   "cell_type": "code",
   "execution_count": 70,
   "metadata": {},
   "outputs": [],
   "source": [
    "for i,df in enumerate(dfs):\n",
    "    df.loc[df['period'] == 'new', ['gloss', 'sense_id']] = None\n",
    "    df.to_csv(output_paths[i], sep='\\t', index=False)"
   ]
  }
 ],
 "metadata": {
  "kernelspec": {
   "display_name": "Python 3",
   "language": "python",
   "name": "python3"
  },
  "language_info": {
   "codemirror_mode": {
    "name": "ipython",
    "version": 3
   },
   "file_extension": ".py",
   "mimetype": "text/x-python",
   "name": "python",
   "nbconvert_exporter": "python",
   "pygments_lexer": "ipython3",
   "version": "3.12.1"
  }
 },
 "nbformat": 4,
 "nbformat_minor": 2
}
