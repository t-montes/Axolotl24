{
 "cells": [
  {
   "cell_type": "code",
   "execution_count": 1,
   "id": "7d2d32a0-6011-49c3-a01c-331e58672361",
   "metadata": {},
   "outputs": [
    {
     "name": "stderr",
     "output_type": "stream",
     "text": [
      "/home/estudiante/axolotl24/venv/lib/python3.10/site-packages/tqdm/auto.py:21: TqdmWarning: IProgress not found. Please update jupyter and ipywidgets. See https://ipywidgets.readthedocs.io/en/stable/user_install.html\n",
      "  from .autonotebook import tqdm as notebook_tqdm\n"
     ]
    }
   ],
   "source": [
    "from transformers import AutoTokenizer, AutoModel\n",
    "import pandas as pd\n",
    "import json\n",
    "import torch"
   ]
  },
  {
   "cell_type": "code",
   "execution_count": 2,
   "id": "8c5be7f4-8540-4be0-bbae-50ba252627c4",
   "metadata": {},
   "outputs": [
    {
     "data": {
      "text/plain": [
       "('surprise', './embeddings/examples/axolotl.test.surprise.json')"
      ]
     },
     "execution_count": 2,
     "metadata": {},
     "output_type": "execute_result"
    }
   ],
   "source": [
    "FILE_TO_READ = './data/augmented/axolotl.test.surprise.tsv'\n",
    "\n",
    "language = FILE_TO_READ.split('.')[-2]\n",
    "filename = FILE_TO_READ.split('/')[-1].split('.')[0:-1]\n",
    "filename = '.'.join(filename)\n",
    "embeddings_file_1 = f\"./embeddings/examples/{filename}.json\"\n",
    "embeddings_file_2 = f\"./embeddings/glosses/{filename}.json\"\n",
    "output_file = f\"./embeddings/concatenated/{filename}.json\"\n",
    "language, embeddings_file_1"
   ]
  },
  {
   "cell_type": "code",
   "execution_count": 3,
   "id": "08596745-e22e-4a07-b938-96d9ae90148c",
   "metadata": {},
   "outputs": [
    {
     "name": "stdout",
     "output_type": "stream",
     "text": [
      "<class 'pandas.core.frame.DataFrame'>\n",
      "RangeIndex: 1190 entries, 0 to 1189\n",
      "Data columns (total 9 columns):\n",
      " #   Column                Non-Null Count  Dtype  \n",
      "---  ------                --------------  -----  \n",
      " 0   usage_id              1190 non-null   object \n",
      " 1   word                  1190 non-null   object \n",
      " 2   orth                  1190 non-null   object \n",
      " 3   sense_id              622 non-null    object \n",
      " 4   gloss                 1190 non-null   object \n",
      " 5   example               1190 non-null   object \n",
      " 6   indices_target_token  1189 non-null   object \n",
      " 7   date                  1189 non-null   float64\n",
      " 8   period                1189 non-null   object \n",
      "dtypes: float64(1), object(8)\n",
      "memory usage: 83.8+ KB\n"
     ]
    }
   ],
   "source": [
    "df = pd.read_csv(FILE_TO_READ, sep='\\t')\n",
    "df.info()"
   ]
  },
  {
   "cell_type": "code",
   "execution_count": 4,
   "id": "3a9fbee9-9388-4cf7-a535-ede9290c06d0",
   "metadata": {},
   "outputs": [
    {
     "data": {
      "text/plain": [
       "(1190, (768, 768))"
      ]
     },
     "execution_count": 4,
     "metadata": {},
     "output_type": "execute_result"
    }
   ],
   "source": [
    "with open(embeddings_file_1, 'r') as json_file:\n",
    "    embeddings_1 = json.load(json_file)\n",
    "\n",
    "with open(embeddings_file_2, 'r') as json_file:\n",
    "    embeddings_2 = json.load(json_file)\n",
    "\n",
    "assert len(embeddings_1) == len(embeddings_2), \"Embedding count does not match!\"\n",
    "assert len(embeddings_1) == len(df), \"Embedding count does not match with dataframe!\"\n",
    "len(embeddings_1), (len(embeddings_1[0]), len(embeddings_2[0]))"
   ]
  },
  {
   "cell_type": "code",
   "execution_count": 5,
   "id": "aa649e85-02f4-451b-8ccd-77261f12e2ee",
   "metadata": {},
   "outputs": [
    {
     "data": {
      "text/plain": [
       "(1190, 1536)"
      ]
     },
     "execution_count": 5,
     "metadata": {},
     "output_type": "execute_result"
    }
   ],
   "source": [
    "concatenated = [embeddings_1[i] + embeddings_2[i] for i in range(len(embeddings_1))] \n",
    "len(concatenated), len(concatenated[0])"
   ]
  },
  {
   "cell_type": "code",
   "execution_count": 6,
   "id": "e8d48de3-610c-4d45-89ee-eaa87e6a1a56",
   "metadata": {},
   "outputs": [
    {
     "name": "stdout",
     "output_type": "stream",
     "text": [
      "Concatenated embeddings saved to: ./embeddings/concatenated/axolotl.test.surprise.json\n"
     ]
    }
   ],
   "source": [
    "with open(output_file, 'w') as json_file:\n",
    "    json.dump(concatenated, json_file, indent=4)\n",
    "\n",
    "print(\"Concatenated embeddings saved to:\", output_file)"
   ]
  }
 ],
 "metadata": {
  "kernelspec": {
   "display_name": "Python 3 (ipykernel)",
   "language": "python",
   "name": "python3"
  },
  "language_info": {
   "codemirror_mode": {
    "name": "ipython",
    "version": 3
   },
   "file_extension": ".py",
   "mimetype": "text/x-python",
   "name": "python",
   "nbconvert_exporter": "python",
   "pygments_lexer": "ipython3",
   "version": "3.10.12"
  }
 },
 "nbformat": 4,
 "nbformat_minor": 5
}
