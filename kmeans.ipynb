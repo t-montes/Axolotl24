{
 "cells": [
  {
   "cell_type": "markdown",
   "metadata": {},
   "source": [
    "# Clustering algorithm"
   ]
  },
  {
   "cell_type": "code",
   "execution_count": 1,
   "metadata": {},
   "outputs": [],
   "source": [
    "import torch\n",
    "import pandas as pd\n",
    "import json\n",
    "from sklearn.cluster import KMeans\n",
    "from sklearn.metrics import silhouette_score\n",
    "from sklearn.metrics.pairwise import cosine_similarity\n",
    "import numpy as np"
   ]
  },
  {
   "cell_type": "markdown",
   "metadata": {},
   "source": [
    "## 1. Load the data and the embeddings"
   ]
  },
  {
   "cell_type": "code",
   "execution_count": 5,
   "metadata": {},
   "outputs": [
    {
     "data": {
      "text/plain": [
       "('ru', './embeddings/examples/axolotl.test.ru.json')"
      ]
     },
     "execution_count": 5,
     "metadata": {},
     "output_type": "execute_result"
    }
   ],
   "source": [
    "FILE_TO_READ = './data/test/axolotl.test.ru.tsv'\n",
    "EMBEDDING_TYPE = 'examples' # 'examples' or 'glosses'\n",
    "\n",
    "language = FILE_TO_READ.split('.')[-2]\n",
    "filename = FILE_TO_READ.split('/')[-1].split('.')[0:-1]\n",
    "filename = '.'.join(filename)\n",
    "embeddings_file = f\"./embeddings/{EMBEDDING_TYPE}/{filename}.json\"\n",
    "language, embeddings_file"
   ]
  },
  {
   "cell_type": "code",
   "execution_count": 3,
   "metadata": {},
   "outputs": [
    {
     "name": "stdout",
     "output_type": "stream",
     "text": [
      "<class 'pandas.core.frame.DataFrame'>\n",
      "RangeIndex: 2126 entries, 0 to 2125\n",
      "Data columns (total 9 columns):\n",
      " #   Column                Non-Null Count  Dtype  \n",
      "---  ------                --------------  -----  \n",
      " 0   usage_id              2126 non-null   object \n",
      " 1   word                  2126 non-null   object \n",
      " 2   orth                  2126 non-null   object \n",
      " 3   sense_id              424 non-null    object \n",
      " 4   gloss                 424 non-null    object \n",
      " 5   example               1990 non-null   object \n",
      " 6   indices_target_token  0 non-null      float64\n",
      " 7   date                  2126 non-null   object \n",
      " 8   period                2126 non-null   object \n",
      "dtypes: float64(1), object(8)\n",
      "memory usage: 149.6+ KB\n"
     ]
    }
   ],
   "source": [
    "df = pd.read_csv(FILE_TO_READ, sep='\\t')\n",
    "df.info()"
   ]
  },
  {
   "cell_type": "code",
   "execution_count": 7,
   "metadata": {},
   "outputs": [
    {
     "data": {
      "text/plain": [
       "torch.Size([2126, 768])"
      ]
     },
     "execution_count": 7,
     "metadata": {},
     "output_type": "execute_result"
    }
   ],
   "source": [
    "with open(embeddings_file, 'r') as json_file:\n",
    "    embeddings_list = json.load(json_file)\n",
    "\n",
    "embeddings = torch.tensor(embeddings_list)\n",
    "embeddings.size()"
   ]
  },
  {
   "cell_type": "markdown",
   "metadata": {},
   "source": [
    "## 2. Clustering algorithm with the embeddings "
   ]
  },
  {
   "cell_type": "code",
   "execution_count": 119,
   "metadata": {},
   "outputs": [],
   "source": [
    "def cosine_distance(X, centroids):\n",
    "    return 1 - cosine_similarity(X, centroids)\n",
    "\n",
    "def get_silhouette_score(tensors, labels):\n",
    "    # Convert the torch tensors to numpy arrays and reshape them\n",
    "    X = np.array([tensor.flatten().numpy() for tensor in tensors])\n",
    "    # Calculate the silhouette score\n",
    "    score = silhouette_score(X, labels=labels, metric='euclidean')\n",
    "\n",
    "    return score\n",
    "\n",
    "def KMeans_clustering(df):\n",
    "    best_score = -1\n",
    "    best_n = 0\n",
    "    for n in range(2,5):\n",
    "        kmeans = KMeans(n_clusters=n, random_state=0, metric =cosine_distance)\n",
    "        kmeans.fit(df['embedding'].tolist())\n",
    "        df[f'clusters_{n}'] = None\n",
    "        df[f'clusters_{n}'] = kmeans.labels_\n",
    "        silhouette_avg = get_silhouette_score(df['embedding'], df[f'clusters_{n}'])\n",
    "        if silhouette_avg > best_score:\n",
    "            best_score = silhouette_avg\n",
    "            best_n = n\n",
    "    return df, best_n\n"
   ]
  },
  {
   "cell_type": "code",
   "execution_count": 120,
   "metadata": {},
   "outputs": [
    {
     "name": "stdout",
     "output_type": "stream",
     "text": [
      "label: миро\n"
     ]
    },
    {
     "ename": "TypeError",
     "evalue": "KMeans.__init__() got an unexpected keyword argument 'metric'",
     "output_type": "error",
     "traceback": [
      "\u001b[1;31m---------------------------------------------------------------------------\u001b[0m",
      "\u001b[1;31mTypeError\u001b[0m                                 Traceback (most recent call last)",
      "Cell \u001b[1;32mIn[120], line 3\u001b[0m\n\u001b[0;32m      1\u001b[0m \u001b[38;5;28;01mfor\u001b[39;00m label, group \u001b[38;5;129;01min\u001b[39;00m df\u001b[38;5;241m.\u001b[39mgroupby(\u001b[38;5;124m'\u001b[39m\u001b[38;5;124mword\u001b[39m\u001b[38;5;124m'\u001b[39m):\n\u001b[0;32m      2\u001b[0m     \u001b[38;5;28mprint\u001b[39m(\u001b[38;5;124m\"\u001b[39m\u001b[38;5;124mlabel:\u001b[39m\u001b[38;5;124m\"\u001b[39m, label)\n\u001b[1;32m----> 3\u001b[0m     result_df, best_n \u001b[38;5;241m=\u001b[39m \u001b[43mKMeans_clustering\u001b[49m\u001b[43m(\u001b[49m\u001b[43mgroup\u001b[49m\u001b[43m)\u001b[49m\n\u001b[0;32m      4\u001b[0m     \u001b[38;5;28mprint\u001b[39m(\u001b[38;5;124m\"\u001b[39m\u001b[38;5;124mbest_n:\u001b[39m\u001b[38;5;124m\"\u001b[39m, best_n)\n\u001b[0;32m      5\u001b[0m     \u001b[38;5;28mprint\u001b[39m(df)\n",
      "Cell \u001b[1;32mIn[119], line 16\u001b[0m, in \u001b[0;36mKMeans_clustering\u001b[1;34m(df)\u001b[0m\n\u001b[0;32m     14\u001b[0m best_n \u001b[38;5;241m=\u001b[39m \u001b[38;5;241m0\u001b[39m\n\u001b[0;32m     15\u001b[0m \u001b[38;5;28;01mfor\u001b[39;00m n \u001b[38;5;129;01min\u001b[39;00m \u001b[38;5;28mrange\u001b[39m(\u001b[38;5;241m2\u001b[39m,\u001b[38;5;241m5\u001b[39m):\n\u001b[1;32m---> 16\u001b[0m     kmeans \u001b[38;5;241m=\u001b[39m \u001b[43mKMeans\u001b[49m\u001b[43m(\u001b[49m\u001b[43mn_clusters\u001b[49m\u001b[38;5;241;43m=\u001b[39;49m\u001b[43mn\u001b[49m\u001b[43m,\u001b[49m\u001b[43m \u001b[49m\u001b[43mrandom_state\u001b[49m\u001b[38;5;241;43m=\u001b[39;49m\u001b[38;5;241;43m0\u001b[39;49m\u001b[43m,\u001b[49m\u001b[43m \u001b[49m\u001b[43mmetric\u001b[49m\u001b[43m \u001b[49m\u001b[38;5;241;43m=\u001b[39;49m\u001b[43mcosine_distance\u001b[49m\u001b[43m)\u001b[49m\n\u001b[0;32m     17\u001b[0m     kmeans\u001b[38;5;241m.\u001b[39mfit(df[\u001b[38;5;124m'\u001b[39m\u001b[38;5;124membedding\u001b[39m\u001b[38;5;124m'\u001b[39m]\u001b[38;5;241m.\u001b[39mtolist())\n\u001b[0;32m     18\u001b[0m     df[\u001b[38;5;124mf\u001b[39m\u001b[38;5;124m'\u001b[39m\u001b[38;5;124mclusters_\u001b[39m\u001b[38;5;132;01m{\u001b[39;00mn\u001b[38;5;132;01m}\u001b[39;00m\u001b[38;5;124m'\u001b[39m] \u001b[38;5;241m=\u001b[39m \u001b[38;5;28;01mNone\u001b[39;00m\n",
      "\u001b[1;31mTypeError\u001b[0m: KMeans.__init__() got an unexpected keyword argument 'metric'"
     ]
    }
   ],
   "source": [
    "for label, group in df.groupby('word'):\n",
    "    print(\"label:\", label)\n",
    "    result_df, best_n = KMeans_clustering(group)\n",
    "    print(\"best_n:\", best_n)\n",
    "    print(df)\n",
    "    break"
   ]
  },
  {
   "cell_type": "code",
   "execution_count": null,
   "metadata": {},
   "outputs": [
    {
     "data": {
      "text/html": [
       "<div>\n",
       "<style scoped>\n",
       "    .dataframe tbody tr th:only-of-type {\n",
       "        vertical-align: middle;\n",
       "    }\n",
       "\n",
       "    .dataframe tbody tr th {\n",
       "        vertical-align: top;\n",
       "    }\n",
       "\n",
       "    .dataframe thead th {\n",
       "        text-align: right;\n",
       "    }\n",
       "</style>\n",
       "<table border=\"1\" class=\"dataframe\">\n",
       "  <thead>\n",
       "    <tr style=\"text-align: right;\">\n",
       "      <th></th>\n",
       "      <th>usage_id</th>\n",
       "      <th>word</th>\n",
       "      <th>orth</th>\n",
       "      <th>sense_id</th>\n",
       "      <th>gloss</th>\n",
       "      <th>example</th>\n",
       "      <th>indices_target_token</th>\n",
       "      <th>date</th>\n",
       "      <th>period</th>\n",
       "      <th>embedding</th>\n",
       "      <th>clusters_2</th>\n",
       "      <th>clusters_3</th>\n",
       "      <th>clusters_4</th>\n",
       "    </tr>\n",
       "  </thead>\n",
       "  <tbody>\n",
       "    <tr>\n",
       "      <th>0</th>\n",
       "      <td>train_ru_0</td>\n",
       "      <td>миро</td>\n",
       "      <td>миро</td>\n",
       "      <td>miro_f2cnblJ7iBg</td>\n",
       "      <td>Миро, мvро ср., благовонное масло, пахучая мас...</td>\n",
       "      <td>Определение слова миро: Миро, мvро ср., благов...</td>\n",
       "      <td>NaN</td>\n",
       "      <td>old</td>\n",
       "      <td>old</td>\n",
       "      <td>[tensor(-0.5822), tensor(-0.4083), tensor(0.40...</td>\n",
       "      <td>0</td>\n",
       "      <td>2</td>\n",
       "      <td>3</td>\n",
       "    </tr>\n",
       "    <tr>\n",
       "      <th>1</th>\n",
       "      <td>train_ru_1</td>\n",
       "      <td>миро</td>\n",
       "      <td>миро</td>\n",
       "      <td>miro_8igZuzZK97Q</td>\n",
       "      <td>религ. жидкое ароматическое масло, освящаемое ...</td>\n",
       "      <td>Затем ключарь приглашает, чтобы женщины вышли ...</td>\n",
       "      <td>NaN</td>\n",
       "      <td>new</td>\n",
       "      <td>new</td>\n",
       "      <td>[tensor(0.4642), tensor(-0.2129), tensor(0.321...</td>\n",
       "      <td>0</td>\n",
       "      <td>2</td>\n",
       "      <td>2</td>\n",
       "    </tr>\n",
       "    <tr>\n",
       "      <th>2</th>\n",
       "      <td>train_ru_2</td>\n",
       "      <td>миро</td>\n",
       "      <td>миро</td>\n",
       "      <td>miro_8igZuzZK97Q</td>\n",
       "      <td>религ. жидкое ароматическое масло, освящаемое ...</td>\n",
       "      <td>Они везде одним мvром мазаны. Мvром покрыт (т....</td>\n",
       "      <td>NaN</td>\n",
       "      <td>old</td>\n",
       "      <td>old</td>\n",
       "      <td>[tensor(-0.3496), tensor(-0.1741), tensor(-0.3...</td>\n",
       "      <td>0</td>\n",
       "      <td>0</td>\n",
       "      <td>0</td>\n",
       "    </tr>\n",
       "    <tr>\n",
       "      <th>3</th>\n",
       "      <td>train_ru_3</td>\n",
       "      <td>миро</td>\n",
       "      <td>миро</td>\n",
       "      <td>miro_o98UfpSoYH4</td>\n",
       "      <td>религ. жидкость, иногда чудесным образом выдел...</td>\n",
       "      <td>Мощи святого хранятся здесь до сих пор, продол...</td>\n",
       "      <td>NaN</td>\n",
       "      <td>new</td>\n",
       "      <td>new</td>\n",
       "      <td>[tensor(0.0417), tensor(-0.7488), tensor(-0.00...</td>\n",
       "      <td>0</td>\n",
       "      <td>2</td>\n",
       "      <td>2</td>\n",
       "    </tr>\n",
       "    <tr>\n",
       "      <th>4</th>\n",
       "      <td>train_ru_4</td>\n",
       "      <td>миро</td>\n",
       "      <td>миро</td>\n",
       "      <td>miro_o98UfpSoYH4</td>\n",
       "      <td>религ. жидкость, иногда чудесным образом выдел...</td>\n",
       "      <td>Иосиф увидел, что по иконе Богородицы текли ст...</td>\n",
       "      <td>NaN</td>\n",
       "      <td>new</td>\n",
       "      <td>new</td>\n",
       "      <td>[tensor(0.0759), tensor(0.0134), tensor(0.2199...</td>\n",
       "      <td>1</td>\n",
       "      <td>1</td>\n",
       "      <td>1</td>\n",
       "    </tr>\n",
       "  </tbody>\n",
       "</table>\n",
       "</div>"
      ],
      "text/plain": [
       "     usage_id  word  orth          sense_id  \\\n",
       "0  train_ru_0  миро  миро  miro_f2cnblJ7iBg   \n",
       "1  train_ru_1  миро  миро  miro_8igZuzZK97Q   \n",
       "2  train_ru_2  миро  миро  miro_8igZuzZK97Q   \n",
       "3  train_ru_3  миро  миро  miro_o98UfpSoYH4   \n",
       "4  train_ru_4  миро  миро  miro_o98UfpSoYH4   \n",
       "\n",
       "                                               gloss  \\\n",
       "0  Миро, мvро ср., благовонное масло, пахучая мас...   \n",
       "1  религ. жидкое ароматическое масло, освящаемое ...   \n",
       "2  религ. жидкое ароматическое масло, освящаемое ...   \n",
       "3  религ. жидкость, иногда чудесным образом выдел...   \n",
       "4  религ. жидкость, иногда чудесным образом выдел...   \n",
       "\n",
       "                                             example  indices_target_token  \\\n",
       "0  Определение слова миро: Миро, мvро ср., благов...                   NaN   \n",
       "1  Затем ключарь приглашает, чтобы женщины вышли ...                   NaN   \n",
       "2  Они везде одним мvром мазаны. Мvром покрыт (т....                   NaN   \n",
       "3  Мощи святого хранятся здесь до сих пор, продол...                   NaN   \n",
       "4  Иосиф увидел, что по иконе Богородицы текли ст...                   NaN   \n",
       "\n",
       "  date period                                          embedding  clusters_2  \\\n",
       "0  old    old  [tensor(-0.5822), tensor(-0.4083), tensor(0.40...           0   \n",
       "1  new    new  [tensor(0.4642), tensor(-0.2129), tensor(0.321...           0   \n",
       "2  old    old  [tensor(-0.3496), tensor(-0.1741), tensor(-0.3...           0   \n",
       "3  new    new  [tensor(0.0417), tensor(-0.7488), tensor(-0.00...           0   \n",
       "4  new    new  [tensor(0.0759), tensor(0.0134), tensor(0.2199...           1   \n",
       "\n",
       "   clusters_3  clusters_4  \n",
       "0           2           3  \n",
       "1           2           2  \n",
       "2           0           0  \n",
       "3           2           2  \n",
       "4           1           1  "
      ]
     },
     "execution_count": 102,
     "metadata": {},
     "output_type": "execute_result"
    }
   ],
   "source": [
    "result_df"
   ]
  }
 ],
 "metadata": {
  "kernelspec": {
   "display_name": "Python 3 (ipykernel)",
   "language": "python",
   "name": "python3"
  },
  "language_info": {
   "codemirror_mode": {
    "name": "ipython",
    "version": 3
   },
   "file_extension": ".py",
   "mimetype": "text/x-python",
   "name": "python",
   "nbconvert_exporter": "python",
   "pygments_lexer": "ipython3",
   "version": "3.12.1"
  }
 },
 "nbformat": 4,
 "nbformat_minor": 4
}
